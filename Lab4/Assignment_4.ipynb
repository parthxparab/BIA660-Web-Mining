{
 "cells": [
  {
   "cell_type": "markdown",
   "metadata": {},
   "source": [
    "# Assignment 4: Classification"
   ]
  },
  {
   "cell_type": "markdown",
   "metadata": {},
   "source": [
    "This assignment needs assign4_train.csv and assign4_test.csv. assign4_train.csv is for training and assign4_test.csv is for test. Both of them have samples in the following format:\n",
    "\n",
    "|label | text |\n",
    "|------|------|\n",
    "|1|  I must admit that I'm addicted to \"Version 2.0...|\n",
    "|0|  I think it's such a shame that an enormous tal...|\n",
    "|1|  The Sunsout No Room at The Inn Puzzle has oddl...|\n",
    "|...|...|\n"
   ]
  },
  {
   "cell_type": "markdown",
   "metadata": {},
   "source": [
    "## Q1 Classification \n",
    "\n",
    "Write a function **classify** to conduct a classification experiement as follows: \n",
    "1. Take the training and testing file names (strings) as inputs, i.e. classify (training_file, testing_file). \n",
    "2. Classify text samples in the training file using **Linear SVM** as follows: \n",
    "   - a. First apply grid search with **6-fold cross validation** to find the best values for parameters **min_df**, **stop_words**, and **C** of Linear SVM that are used the modeling pipeline. Use f1-macro as the scoring metric to select the best parameter values. Potential values for these parameters are: \n",
    "      * min_df' : [1,2,3]\n",
    "      * stop_words' : [None,\"english\"]\n",
    "      * C: [0.5,1,5] \n",
    "   - b. Using the best parameter values, **train a Linear SVM with all samples** in the training file \n",
    "3. Test the classifier created in Step 2.b using the test file. Report the testing performance as: \n",
    "   - Precision, recall, and f1-score of each label \n",
    "   - Treat label 1 as the positive class, plot precision-recall curve and ROC curve, and calculate AUC, Average Precision (sklearn.metrics.average_precision_score). Note, LinearSVC does not ouput probability, but you can use **decision_function** to calculate AUC (https://scikit-learn.org/stable/modules/generated/sklearn.svm.LinearSVC.html#sklearn.svm.LinearSVC.decision_function) \n",
    "4. Your function \"classify\" has no return. However, when this function is called, the best parameter values from grid search is printed and the testing performance from Step 3 is printed. "
   ]
  },
  {
   "cell_type": "markdown",
   "metadata": {},
   "source": [
    "## Q2. How to determine **K** in k-fold cross validation?  \n",
    "\n",
    "This question will use assign4_train.csv dataset. Use this experiment to find the best **k** for k-fold cross validation.\n",
    "\n",
    "Write a function \"K_fold_CV\" as follows:\n",
    "- Take the full file name path string for a dataset as an input, e.g. K_fold_CV(dataset_file). \n",
    "- Create tf-idf matrix using TfidfVectorizer \n",
    "- Conduct k-fold cross validation for different $k$ values varying from 2 to 20. For each $k$, do the following:\n",
    "    1. train a classifier using **multinomial Naive Bayes** model with k-fold cross validation \n",
    "    2. train a classifier using **linear support vector machine** model with k-fold cross validation \n",
    "    3. for each classifier, collect the average AUC across $k$ folds (treat label 1 as the positive class). Hint, for binary classification, you can set \"roc_auc\" as the value of \"metric\" parameter of function \"cross_validate\". \n",
    "- Plot a line chart to show **the relationship between sample size and AUC**  \n",
    "- Write your analysis in a **separate pdf file (not in code)** on the following: \n",
    "  - How does $k$ affect model performance on evaluation sets? \n",
    "  - By varying $k$, you also change sample size for training. How can the sample size affect model performance? \n",
    "- There is no return for this function, but the charts should be plotted."
   ]
  },
  {
   "cell_type": "markdown",
   "metadata": {},
   "source": [
    "## Q3 (Bonus): Ensemble Models by Stacking\n",
    "\n",
    "An emsemble model combines decisions from multiple models to improve the overall performance. This question askes you to implement an emsemble model by stacking. The details of this technique and sample code can be found at https://www.analyticsvidhya.com/blog/2018/06/comprehensive-guide-for-ensemble-models/. \n",
    "\n",
    "Define a function **stacking** to achieve the following:\n",
    "- Take the training and testing file names (strings) as inputs, i.e. stacking(training_file, testing_file). \n",
    "- Train Naive Bayes and Linear SVM using 6-fold cross validation as two base models\n",
    "- Following the procedure for stacking, train a decision tree or random forest as the top model using the predictions from the base models\n",
    "- Test the ensemble model performance using the testing dataset and print out precision, recall and F-1 score. \n",
    "\n",
    "This function has not return. Note, this ensemble model may not give you a better performance than base models. Just take this chance to learn how to create ensemble models by stacking. This is a very useful technique."
   ]
  },
  {
   "cell_type": "code",
   "execution_count": 100,
   "metadata": {},
   "outputs": [],
   "source": [
    "import pandas as pd\n",
    "from sklearn.pipeline import Pipeline\n",
    "from sklearn.feature_extraction.text import TfidfVectorizer\n",
    "from sklearn.svm import LinearSVC\n",
    "from sklearn.model_selection import GridSearchCV\n",
    "from sklearn.metrics import classification_report\n",
    "from sklearn.metrics import roc_curve, auc,precision_recall_curve\n",
    "import numpy as np\n",
    "from matplotlib import pyplot as plt\n",
    "from sklearn.metrics import roc_auc_score\n",
    "from sklearn.metrics import average_precision_score\n",
    "from sklearn.model_selection import cross_validate\n",
    "from sklearn.naive_bayes import MultinomialNB\n",
    "\n",
    "# add import statements"
   ]
  },
  {
   "cell_type": "code",
   "execution_count": 101,
   "metadata": {},
   "outputs": [],
   "source": [
    "# Q1\n",
    "\n",
    "def classify(train_file, test_file):\n",
    "    \n",
    "    train=pd.read_csv(train_file)\n",
    "    test=pd.read_csv(test_file)\n",
    "\n",
    "# build a pipeline which does two steps all together:\n",
    "# (1) generate tfidf, and (2) train classifier\n",
    "# each step is named, i.e. \"tfidf\", \"clf\"\n",
    "\n",
    "    text_clf = Pipeline([('tfidf', TfidfVectorizer()),('clf', LinearSVC())])\n",
    "\n",
    "# set the range of parameters to be tuned\n",
    "# each parameter is defined as \n",
    "# <step name>__<parameter name in step>\n",
    "# e.g. min_df is a parameter of TfidfVectorizer()\n",
    "# \"tfidf\" is the name for TfidfVectorizer()\n",
    "# therefore, 'tfidf__min_df' is the parameter in grid search\n",
    "\n",
    "    parameters = {'tfidf__min_df':[1, 2,3],\n",
    "              'tfidf__stop_words':[None,\"english\"],\n",
    "              'clf__C': [0.5,1.0,5.0],\n",
    "    }\n",
    "\n",
    "# the metric used to select the best parameters\n",
    "    metric =  \"f1_macro\"\n",
    "\n",
    "# GridSearch also uses cross validation\n",
    "    gs_clf = GridSearchCV\\\n",
    "    (text_clf, param_grid=parameters, \\\n",
    "     scoring=metric, cv=6)\n",
    "\n",
    "# due to data volume and large parameter combinations\n",
    "# it may take long time to search for optimal parameter combination\n",
    "# you can use a subset of data to test\n",
    "    gs_clf = gs_clf.fit(train[\"text\"], train[\"label\"])\n",
    "    \n",
    "    \n",
    "    for param_name in gs_clf.best_params_:\n",
    "        print(param_name,\": \",gs_clf.best_params_[param_name])\n",
    "\n",
    "    print(\"best f1 score:\", gs_clf.best_score_)\n",
    "    \n",
    "    grid_predictions = gs_clf.predict(test[\"text\"])\n",
    "    \n",
    "    print(classification_report(test[\"label\"], grid_predictions)) \n",
    "    \n",
    "    auc_clf=gs_clf.fit(train[\"text\"], train[\"label\"]).decision_function(test['text'])\n",
    "    \n",
    "# compute fpr/tpr by different thresholds\n",
    "# positive class has label \"1\"\n",
    "    fpr, tpr, thresholds = roc_curve(test[\"label\"], auc_clf, \\\n",
    "                                 pos_label=1)\n",
    "\n",
    "    # calculate auc\n",
    "\n",
    "    AUC = auc(fpr, tpr)\n",
    "    \n",
    "    print(\"AUC: {0:.3f}\".format(AUC))   \n",
    "    \n",
    "    plt.figure();\n",
    "    plt.plot(fpr, tpr, color='darkorange', lw=2);\n",
    "    plt.plot([0, 1], [0, 1], color='navy', lw=2, linestyle='--');\n",
    "    plt.xlim([0.0, 1.0]);\n",
    "    plt.ylim([0.0, 1.05]);\n",
    "    plt.xlabel('False Positive Rate');\n",
    "    plt.ylabel('True Positive Rate');\n",
    "    plt.title('AUC of Naive Bayes Model');\n",
    "    plt.show();\n",
    "             \n",
    "    precision, recall, thresholds = precision_recall_curve(test[\"label\"], \\\n",
    "                                auc_clf, pos_label=1)\n",
    "    \n",
    "    apc = average_precision_score(test[\"label\"], auc_clf)   \n",
    "    print(\"Average Precision: {0:.3f}\".format(apc))\n",
    "    \n",
    "\n",
    "    plt.figure();\n",
    "    plt.plot(recall, precision, color='darkorange', lw=2);\n",
    "    plt.xlim([0.0, 1.0]);\n",
    "    plt.ylim([0.0, 1.05]);\n",
    "    plt.xlabel('Recall');\n",
    "    plt.ylabel('Precision');\n",
    "    plt.title('Precision_Recall_Curve of Naive Bayes Model');\n",
    "    plt.show();\n",
    "    return None\n",
    "#classify(\"/Users/parthxparab/Documents/Fall 2019/BIA660/Lab4/dataset/assign4_train.csv\",\\\n",
    "#         \"/Users/parthxparab/Documents/Fall 2019/BIA660/Lab4/dataset/assign4_test.csv\")"
   ]
  },
  {
   "cell_type": "code",
   "execution_count": 102,
   "metadata": {},
   "outputs": [],
   "source": [
    "# Q2\n",
    "\n",
    "def K_fold_CV(train_file):\n",
    "    train=pd.read_csv(train_file)\n",
    "    tfidf_vect = TfidfVectorizer(stop_words=\"english\") \n",
    "\n",
    "    # generate tfidf matrix\n",
    "    dtm= tfidf_vect.fit_transform(train[\"text\"])\n",
    "    \n",
    "    metrics = ['roc_auc']\n",
    "\n",
    "    svm = []\n",
    "    nb = []\n",
    "    clf = MultinomialNB()\n",
    "    clf1 = LinearSVC()\n",
    "#clf = MultinomialNB(alpha=0.5)\n",
    "\n",
    "    for i in range(2,21):\n",
    "\n",
    "        cvNB = cross_validate(clf, dtm, train[\"label\"], \\\n",
    "                        scoring=metrics, cv=i, \\\n",
    "                        return_train_score=True)\n",
    "        nb.append(np.mean(cvNB['test_roc_auc']))\n",
    "        cvSVC = cross_validate(clf1, dtm, train[\"label\"], \\\n",
    "                        scoring=metrics, cv=i, \\\n",
    "                        return_train_score=True)\n",
    "        svm.append(np.mean(cvSVC['test_roc_auc']))\n",
    "\n",
    "    plt.plot(range(2,21),nb,color='orange')\n",
    "    plt.plot(range(2,21),svm,color='blue')\n",
    "    plt.xlabel('K')\n",
    "    plt.xlim((2, 20))  \n",
    "    plt.legend(['nb','svm'])\n",
    "    plt.show()\n",
    "\n",
    "    \n",
    "    return None\n",
    "#K_fold_CV(\"/Users/parthxparab/Documents/Fall 2019/BIA660/Lab4/dataset/assign4_train.csv\")"
   ]
  },
  {
   "cell_type": "code",
   "execution_count": 103,
   "metadata": {},
   "outputs": [],
   "source": [
    "def stacking(train_file, test_file):\n",
    "    \n",
    "    return None\n",
    "    \n",
    "    "
   ]
  },
  {
   "cell_type": "code",
   "execution_count": 104,
   "metadata": {},
   "outputs": [
    {
     "name": "stdout",
     "output_type": "stream",
     "text": [
      "Q1\n",
      "clf__C :  0.5\n",
      "tfidf__min_df :  1\n",
      "tfidf__stop_words :  None\n",
      "best f1 score: 0.8045970021016776\n",
      "              precision    recall  f1-score   support\n",
      "\n",
      "           0       0.77      0.83      0.80       248\n",
      "           1       0.82      0.75      0.78       252\n",
      "\n",
      "    accuracy                           0.79       500\n",
      "   macro avg       0.79      0.79      0.79       500\n",
      "weighted avg       0.79      0.79      0.79       500\n",
      "\n",
      "AUC: 0.881\n"
     ]
    },
    {
     "data": {
      "image/png": "[encoded data removed]",
      "text/plain": [
       "<Figure size 432x288 with 1 Axes>"
      ]
     },
     "metadata": {
      "needs_background": "light"
     },
     "output_type": "display_data"
    },
    {
     "name": "stdout",
     "output_type": "stream",
     "text": [
      "Average Precision: 0.871\n"
     ]
    },
    {
     "data": {
      "image/png": "[encoded data removed]",
      "text/plain": [
       "<Figure size 432x288 with 1 Axes>"
      ]
     },
     "metadata": {
      "needs_background": "light"
     },
     "output_type": "display_data"
    },
    {
     "name": "stdout",
     "output_type": "stream",
     "text": [
      "\n",
      "Q2\n"
     ]
    },
    {
     "data": {
      "image/png": "[encoded data removed]",
      "text/plain": [
       "<Figure size 432x288 with 1 Axes>"
      ]
     },
     "metadata": {
      "needs_background": "light"
     },
     "output_type": "display_data"
    }
   ],
   "source": [
    "if __name__ == \"__main__\":  \n",
    "    # Question 1\n",
    "    print(\"Q1\")\n",
    "    classify(\"/Users/parthxparab/Documents/Fall 2019/BIA660/Lab4/dataset/assign4_train.csv\",\\\n",
    "         \"/Users/parthxparab/Documents/Fall 2019/BIA660/Lab4/dataset/assign4_test.csv\")\n",
    "    \n",
    "    # Test Q2\n",
    "    print(\"\\nQ2\")\n",
    "    K_fold_CV(\"/Users/parthxparab/Documents/Fall 2019/BIA660/Lab4/dataset/assign4_train.csv\")\n",
    "    \n",
    "    # Test Q3\n",
    "  #  print(\"\\nQ3\")\n",
    "  #  stacking(\"../../dataset/assign4_train.csv\",\\\n",
    "  #       \"../../dataset/assign4_test.csv\")\n",
    "   "
   ]
  },
  {
   "cell_type": "code",
   "execution_count": null,
   "metadata": {
    "collapsed": true
   },
   "outputs": [],
   "source": []
  }
 ],
 "metadata": {
  "kernelspec": {
   "display_name": "Python 3",
   "language": "python",
   "name": "python3"
  },
  "language_info": {
   "codemirror_mode": {
    "name": "ipython",
    "version": 3
   },
   "file_extension": ".py",
   "mimetype": "text/x-python",
   "name": "python",
   "nbconvert_exporter": "python",
   "pygments_lexer": "ipython3",
   "version": "3.7.4"
  }
 },
 "nbformat": 4,
 "nbformat_minor": 2
}
